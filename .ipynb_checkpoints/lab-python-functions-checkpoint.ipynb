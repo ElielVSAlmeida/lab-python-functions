{
 "cells": [
  {
   "cell_type": "markdown",
   "id": "25d7736c-ba17-4aff-b6bb-66eba20fbf4e",
   "metadata": {},
   "source": [
    "# Lab | Functions"
   ]
  },
  {
   "cell_type": "markdown",
   "id": "0c581062-8967-4d93-b06e-62833222f930",
   "metadata": {
    "tags": []
   },
   "source": [
    "## Exercise: Managing Customer Orders with Functions\n",
    "\n",
    "In the previous exercise, you improved the code for managing customer orders by using loops and flow control. Now, let's take it a step further and refactor the code by introducing functions.\n",
    "\n",
    "Follow the steps below to complete the exercise:\n",
    "\n",
    "1. Define a function named `initialize_inventory` that takes `products` as a parameter. Inside the function, implement the code for initializing the inventory dictionary using a loop and user input.\n",
    "\n",
    "2. Define a function named `get_customer_orders` that takes no parameters. Inside the function, implement the code for prompting the user to enter the product names using a loop. The function should return the `customer_orders` set.\n",
    "\n",
    "3. Define a function named `update_inventory` that takes `customer_orders` and `inventory` as parameters. Inside the function, implement the code for updating the inventory dictionary based on the customer orders.\n",
    "\n",
    "4. Define a function named `calculate_order_statistics` that takes `customer_orders` and `products` as parameters. Inside the function, implement the code for calculating the order statistics (total products ordered, and percentage of unique products ordered). The function should return these values.\n",
    "\n",
    "5. Define a function named `print_order_statistics` that takes `order_statistics` as a parameter. Inside the function, implement the code for printing the order statistics.\n",
    "\n",
    "6. Define a function named `print_updated_inventory` that takes `inventory` as a parameter. Inside the function, implement the code for printing the updated inventory.\n",
    "\n",
    "7. Call the functions in the appropriate sequence to execute the program and manage customer orders.\n",
    "\n",
    "Hints for functions:\n",
    "\n",
    "- Consider the input parameters required for each function and their return values.\n",
    "- Utilize function parameters and return values to transfer data between functions.\n",
    "- Test your functions individually to ensure they work correctly.\n",
    "\n",
    "\n"
   ]
  },
  {
   "cell_type": "code",
   "execution_count": 1,
   "id": "40c5402a",
   "metadata": {},
   "outputs": [
    {
     "name": "stdout",
     "output_type": "stream",
     "text": [
      "Please place the quantity of t-shirt: 5\n",
      "Please place the quantity of mug: 5\n",
      "Please place the quantity of hat: 5\n",
      "Please place the quantity of book: 5\n",
      "Please place the quantity of keychain: 5\n"
     ]
    }
   ],
   "source": [
    "productList = [\"t-shirt\", \"mug\", \"hat\", \"book\", \"keychain\"]\n",
    "def initializeInventory(products):\n",
    "    inventory = {}\n",
    "    for items in range(len(products)):\n",
    "        qt = int(input(f'Please place the quantity of {products[items]}: '))\n",
    "        inventory[products[items]] = qt\n",
    "    \n",
    "    return inventory\n",
    "productDict = initializeInventory(productList)"
   ]
  },
  {
   "cell_type": "code",
   "execution_count": 2,
   "id": "4a271326",
   "metadata": {},
   "outputs": [
    {
     "name": "stdout",
     "output_type": "stream",
     "text": [
      "What would you like to order? yes or no yes\n",
      "Products you want order? hat\n",
      "Continue? Use yesbook\n"
     ]
    }
   ],
   "source": [
    "def getCustOrder():\n",
    "    customerOrder = set()\n",
    "    intendedAction = input(\"What would you like to order? yes or no \").strip()\n",
    "    while intendedAction == \"yes\":\n",
    "        if intendedAction == \"yes\":\n",
    "            qc1 = input('Products you want order? ')\n",
    "            customerOrder.add(qc1)\n",
    "\n",
    "            intendedAction = input(\"Continue? Use yes\").strip()\n",
    "        else:\n",
    "            break\n",
    "    return customerOrder\n",
    "theOrder = getCustOrder()"
   ]
  },
  {
   "cell_type": "code",
   "execution_count": 10,
   "id": "bbb4349b",
   "metadata": {},
   "outputs": [],
   "source": [
    "def updateInventory(customerOrder, inventory):\n",
    "    for i in customerOrder:\n",
    "        if i in inventory.keys():\n",
    "            inventory[i] -= 1\n",
    "    return inventory\n",
    "upTheInv = updateInventory(theOrder, productDict)"
   ]
  },
  {
   "cell_type": "code",
   "execution_count": 5,
   "id": "e2442b8b",
   "metadata": {},
   "outputs": [],
   "source": [
    "def calculateOrdStatistics(customerOrder, products):\n",
    "    quantCusOrder = len(customerOrder)\n",
    "    customerPercentege = quantCusOrder/sum(products.values())*100\n",
    "    return quantCusOrder, customerPercentege\n",
    "getStatistics = calculateOrdStatistics(theOrder, productDict)"
   ]
  },
  {
   "cell_type": "code",
   "execution_count": 51,
   "id": "30ec23a3",
   "metadata": {},
   "outputs": [],
   "source": [
    "def printOrdStatistics(orderStatus):\n",
    "    yx = \" Order Statistics: \\n\" \n",
    "    yz =f\"Total Products Ordered: {orderStatus[0]} \\n\"\n",
    "    yf =f\"Percentage of Products Ordered: {orderStatus[1]}% \\n\"\n",
    "    return yx, yz, yf\n",
    "printer = printOrdStatistics(getStatistics)"
   ]
  },
  {
   "cell_type": "code",
   "execution_count": 59,
   "id": "f6bf8040",
   "metadata": {
    "scrolled": true
   },
   "outputs": [
    {
     "name": "stdout",
     "output_type": "stream",
     "text": [
      "In the inventory of t-shirt there is 5 items \n",
      "\n",
      "In the inventory of mug there is 5 items \n",
      "\n",
      "In the inventory of hat there is 3 items \n",
      "\n",
      "In the inventory of book there is 5 items \n",
      "\n",
      "In the inventory of keychain there is 5 items \n",
      "\n"
     ]
    }
   ],
   "source": [
    "def printUpdaInventory(inventory):\n",
    "    y = []\n",
    "    for i, j in inventory.items():\n",
    "        y = [print('In the inventory of' , i, 'there is', j, 'items \\n')]\n",
    "    return\n",
    "printer2 = printUpdaInventory(upTheInv)"
   ]
  },
  {
   "cell_type": "code",
   "execution_count": 65,
   "id": "833aa40d",
   "metadata": {},
   "outputs": [
    {
     "name": "stdout",
     "output_type": "stream",
     "text": [
      "In the inventory of t-shirt there is 5 items \n",
      "\n",
      "In the inventory of mug there is 5 items \n",
      "\n",
      "In the inventory of hat there is 3 items \n",
      "\n",
      "In the inventory of book there is 5 items \n",
      "\n",
      "In the inventory of keychain there is 5 items \n",
      "\n",
      " Order Statistics: \n",
      " Total Products Ordered: 1 \n",
      " Percentage of Products Ordered: 4.166666666666666% \n",
      " [None]\n"
     ]
    }
   ],
   "source": [
    "print(printer[0], printer[1], printer[2], printUpdaInventory(upTheInv))"
   ]
  }
 ],
 "metadata": {
  "kernelspec": {
   "display_name": "Python 3 (ipykernel)",
   "language": "python",
   "name": "python3"
  },
  "language_info": {
   "codemirror_mode": {
    "name": "ipython",
    "version": 3
   },
   "file_extension": ".py",
   "mimetype": "text/x-python",
   "name": "python",
   "nbconvert_exporter": "python",
   "pygments_lexer": "ipython3",
   "version": "3.11.3"
  }
 },
 "nbformat": 4,
 "nbformat_minor": 5
}
